{
 "cells": [
  {
   "cell_type": "markdown",
   "metadata": {},
   "source": [
    "# IBKR Tax"
   ]
  },
  {
   "cell_type": "code",
   "execution_count": null,
   "metadata": {
    "scrolled": true
   },
   "outputs": [],
   "source": [
    "import pandas as pd"
   ]
  },
  {
   "cell_type": "code",
   "execution_count": null,
   "metadata": {
    "scrolled": true
   },
   "outputs": [],
   "source": [
    "from currency_converter import CurrencyConverter\n",
    "c = CurrencyConverter(fallback_on_missing_rate=True)"
   ]
  },
  {
   "cell_type": "markdown",
   "metadata": {},
   "source": [
    "# Read Data"
   ]
  },
  {
   "cell_type": "markdown",
   "metadata": {},
   "source": [
    "Requirements:\n",
    "- English activity statement\n",
    "- Year of activity statement 2020 and older"
   ]
  },
  {
   "cell_type": "code",
   "execution_count": null,
   "metadata": {
    "scrolled": true
   },
   "outputs": [],
   "source": [
    "myfile = \"MY_ACTIVITY_STATEMENT.csv\""
   ]
  },
  {
   "cell_type": "markdown",
   "metadata": {},
   "source": [
    "https://stackoverflow.com/questions/27020216/import-csv-with-different-number-of-columns-per-row-using-pandas/57824142#57824142"
   ]
  },
  {
   "cell_type": "code",
   "execution_count": null,
   "metadata": {
    "scrolled": true
   },
   "outputs": [],
   "source": [
    "### Loop the data lines\n",
    "with open(myfile, 'r') as temp_f:\n",
    "    # get No of columns in each line\n",
    "    col_count = [ len(l.split(\",\")) for l in temp_f.readlines() ]\n",
    "\n",
    "### Generate column names  (names will be 0, 1, 2, ..., maximum columns - 1)\n",
    "column_names = [i for i in range(0, max(col_count))]\n",
    "\n",
    "### Read csv\n",
    "df = pd.read_csv(myfile, header=None, delimiter=\",\", names=column_names)"
   ]
  },
  {
   "cell_type": "markdown",
   "metadata": {},
   "source": [
    "# Trades"
   ]
  },
  {
   "cell_type": "code",
   "execution_count": null,
   "metadata": {
    "scrolled": true
   },
   "outputs": [],
   "source": [
    "df_trades = df[df.iloc[:,0] == \"Trades\"].dropna(how='all', axis=1)\n",
    "df_trades, df_trades.columns = df_trades.iloc[1:] , df_trades.iloc[0]\n",
    "df_trades.columns.name = None"
   ]
  },
  {
   "cell_type": "code",
   "execution_count": null,
   "metadata": {
    "scrolled": true
   },
   "outputs": [],
   "source": [
    "# obtain asset type\n",
    "try:\n",
    "    df_trades[['Asset','Category']] = df_trades[\"Asset Category\"].str.split(\"-\", expand=True).copy()\n",
    "except:\n",
    "    df_trades[\"Asset\"] = df_trades[\"Asset Category\"]\n",
    "\n",
    "# remove subheader\n",
    "df_trades = df_trades[(df_trades[\"Realized P/L\"]!=\"Realized P/L\") & ~(df_trades[\"Header\"].str.contains(\"SubTotal|Total\"))].copy()\n",
    "\n",
    "# convert dtypes\n",
    "df_trades[\"Realized P/L\"] = df_trades[\"Realized P/L\"].astype(float)\n",
    "\n",
    "# remove empty rows\n",
    "df_trades = df_trades[df_trades[\"Realized P/L\"].notnull()] #df_trades[\"Realized P/L\"]!=0) & \n",
    "\n",
    " \n",
    "# convert to datetime\n",
    "df_trades[\"Date/Time\"] = pd.to_datetime(df_trades[\"Date/Time\"],  infer_datetime_format=True)\n",
    "\n",
    "df_trades = df_trades.reset_index(drop=True)"
   ]
  },
  {
   "cell_type": "code",
   "execution_count": null,
   "metadata": {
    "scrolled": true
   },
   "outputs": [],
   "source": [
    "# convert to EUR using ECB rates\n",
    "df_trades[\"P/L [€]\"] = df_trades.apply(lambda row: c.convert(\n",
    "    row[\"Realized P/L\"] , row.Currency, date=row[\"Date/Time\"]), axis=1)\n",
    "df_trades[\"P [€]\"] = df_trades[\"P/L [€]\"].apply(lambda row: row if row > 0 else 0)\n",
    "df_trades[\"L [€]\"] = df_trades[\"P/L [€]\"].apply(lambda row: row if row < 0 else 0)"
   ]
  },
  {
   "cell_type": "code",
   "execution_count": null,
   "metadata": {
    "scrolled": true
   },
   "outputs": [],
   "source": [
    "PL_TradesDet = df_trades.groupby([\"Currency\", \"Asset\"]).sum()\n",
    "PL_Trades = df_trades.groupby([\"Asset\"]).sum()"
   ]
  },
  {
   "cell_type": "markdown",
   "metadata": {},
   "source": [
    "# P/L Forex"
   ]
  },
  {
   "cell_type": "markdown",
   "metadata": {},
   "source": [
    "## Not fully tested"
   ]
  },
  {
   "cell_type": "markdown",
   "metadata": {},
   "source": [
    "### Only applies if every position is closed and opened during the year (i.e. Options)"
   ]
  },
  {
   "cell_type": "markdown",
   "metadata": {},
   "source": [
    "Use > Realized & Unrealized Performance Summary > Forex"
   ]
  },
  {
   "cell_type": "code",
   "execution_count": null,
   "metadata": {},
   "outputs": [],
   "source": [
    "assets  = df_trades.Asset.unique()\n",
    "results = []\n",
    "for asset in assets:\n",
    "    try:\n",
    "        df_asstes = df_trades[df_trades.Asset == asset].copy()\n",
    "        df_asstes[\"Basis\"] = df_asstes[\"Basis\"].astype(float)\n",
    "        df_asstes[\"Basis [€]\"] = df_asstes.apply(lambda row: c.convert(\n",
    "            row[\"Basis\"] , row.Currency, date=row[\"Date/Time\"]), axis=1)\n",
    "        currencies = df_asstes.Currency.unique()\n",
    "        \n",
    "        for curr in currencies:\n",
    "            df_curr = df_asstes[df_asstes.Currency==curr].copy()\n",
    "            open_position = df_curr[\"Basis\"].round(2).sum()\n",
    "            pl_forex = df_curr[\"Basis [€]\"].round(2).sum()\n",
    "            avg_rate = df_asstes.apply(lambda row: c.convert(\n",
    "            1 , row.Currency, date=row[\"Date/Time\"]), axis=1).mean()\n",
    "            results.append([curr, avg_rate, pl_forex, open_position, asset])\n",
    "            #results.append([curr, pl_forex, open_position, asset])\n",
    "            \n",
    "    except Exception as e:\n",
    "        print(f\"Failed for {asset} with error: {e}\")\n",
    "df_forex = pd.DataFrame(results).T\n",
    "df_forex, df_forex.columns = df_forex.iloc[1:] , df_forex.iloc[0]\n",
    "df_forex = df_forex.T\n",
    "df_forex.columns = [\"Average Rate\", \"PL_Forex [€]\", \"Open Position\", \"Asset\"]\n",
    "#df_forex.columns = [\"PL_Forex [€]\", \"Open Position\", \"Asset\"]\n",
    "df_forex.index.name = None\n",
    "df_forex[\"PL_Forex_ADJ [€]\"] = df_forex[\"PL_Forex [€]\"] - df_forex[\"Open Position\"]\n",
    "df_forex.loc[:,:] = df_forex.loc[:,:].apply(pd.to_numeric, errors = 'ignore')\n",
    "df_forex.loc['Column_Total'] = df_forex.sum(numeric_only=True, axis=0)\n",
    "PL_Forex = df_forex\n",
    "PL_Forex"
   ]
  },
  {
   "cell_type": "markdown",
   "metadata": {},
   "source": [
    "# Dividend"
   ]
  },
  {
   "cell_type": "code",
   "execution_count": null,
   "metadata": {
    "scrolled": true
   },
   "outputs": [],
   "source": [
    "def process_df(df):\n",
    "    # set first row as header\n",
    "    df, df.columns = df.iloc[1:] , df.iloc[0]\n",
    "    \n",
    "    # remove rows with sum\n",
    "    df = df[~df.Currency.str.contains(\"Total\")]\n",
    "    \n",
    "    # conver dtypes\n",
    "    df[\"Amount\"] = df[\"Amount\"].astype(float)\n",
    "    \n",
    "    # convert to datetime\n",
    "    df[\"Date\"] = pd.to_datetime(df[\"Date\"],  infer_datetime_format=True)\n",
    "    \n",
    "    # convert to EUR using ECB rates\n",
    "    df[\"Amount [€]\"] = df.apply(lambda row: c.convert(row[\"Amount\"] , row[\"Currency\"], date=row[\"Date\"]), axis=1)\n",
    "    \n",
    "    # label CFD dividens\n",
    "    df[\"Description\"] = df[\"Description\"].str.replace(\" \",\"\")\n",
    "    df[['Symbol','TrashCol']] = df[\"Description\"].str.split(\"(\", n=1, expand=True).copy()\n",
    "    df[['Country','TrashCol']] = df[\"TrashCol\"].str.split(\")\", n=1, expand=True).copy()\n",
    "    df[\"Country\"] = df[\"Country\"].str.extract(r'(^\\D+)').fillna(\"CFD\")\n",
    "    df[\"Asset\"] = \"Stocks\"\n",
    "    df.loc[df.Symbol.str.endswith(\"n\"), \"Asset\"] = \"CFDs\" \n",
    "    \n",
    "    # remove index from column names\n",
    "    df.columns.name = None\n",
    "    df.reset_index(drop=True)\n",
    "    \n",
    "    return df"
   ]
  },
  {
   "cell_type": "code",
   "execution_count": null,
   "metadata": {
    "scrolled": true
   },
   "outputs": [],
   "source": [
    "df_div = df[df.iloc[:,0] == \"Dividends\"].dropna(how='all', axis=1)\n",
    "df_wtax = df[df.iloc[:,0] == \"Withholding Tax\"].dropna(how='all', axis=1)\n",
    "df_871 = df[df.iloc[:,0] == \"871(m) Withholding\"].dropna(how='all', axis=1)"
   ]
  },
  {
   "cell_type": "code",
   "execution_count": null,
   "metadata": {
    "scrolled": true
   },
   "outputs": [],
   "source": [
    "df_div = process_df(df_div)\n",
    "df_wtax = process_df(df_wtax) if not df_wtax.empty else df_wtax"
   ]
  },
  {
   "cell_type": "code",
   "execution_count": null,
   "metadata": {
    "scrolled": true
   },
   "outputs": [],
   "source": [
    "df_871 = process_df(df_871) if not df_871.empty else df_871\n",
    "df_871[\"Asset\"] = \"CFDs\"\n",
    "df_wtax = df_wtax.append(df_871)"
   ]
  },
  {
   "cell_type": "code",
   "execution_count": null,
   "metadata": {
    "scrolled": true
   },
   "outputs": [],
   "source": [
    "WithholdingTax = df_wtax.groupby([\"Currency\", \"Asset\", \"Country\"]).sum() if not df_871.empty else df_871\n",
    "Dividends = df_div.groupby([\"Currency\", \"Asset\", \"Country\"]).sum()"
   ]
  },
  {
   "cell_type": "markdown",
   "metadata": {},
   "source": [
    "# Interest"
   ]
  },
  {
   "cell_type": "code",
   "execution_count": null,
   "metadata": {},
   "outputs": [],
   "source": [
    "# reduce df & convert dtypes\n",
    "df_interest = df[df.iloc[:,0] == \"Interest\"].dropna(how='all', axis=1)\n",
    "df_interest, df_interest.columns = df_interest.iloc[1:] , df_interest.iloc[0]\n",
    "df_interest = df_interest[~df_interest[\"Currency\"].str.contains(\"SubTotal|Total\")]\n",
    "df_interest[\"Amount\"] = df_interest[\"Amount\"].astype(float)\n",
    "df_interest.columns.name = None"
   ]
  },
  {
   "cell_type": "code",
   "execution_count": null,
   "metadata": {},
   "outputs": [],
   "source": [
    "# aggregate positive and negative\n",
    "Interest = df_interest.groupby([\"Currency\"])['Amount'].agg([\n",
    "    (\"Received\", lambda x: x[x>0].sum()),\n",
    "    (\"Paid\", lambda x: x[x<0].sum())\n",
    "])"
   ]
  },
  {
   "cell_type": "markdown",
   "metadata": {},
   "source": [
    "# Results"
   ]
  },
  {
   "cell_type": "code",
   "execution_count": null,
   "metadata": {
    "scrolled": true
   },
   "outputs": [],
   "source": [
    "WithholdingTax if not df_871.empty else \"No Withholding Tax\""
   ]
  },
  {
   "cell_type": "code",
   "execution_count": null,
   "metadata": {
    "scrolled": true
   },
   "outputs": [],
   "source": [
    "Dividends"
   ]
  },
  {
   "cell_type": "code",
   "execution_count": null,
   "metadata": {
    "scrolled": true
   },
   "outputs": [],
   "source": [
    "PL_Trades"
   ]
  },
  {
   "cell_type": "code",
   "execution_count": null,
   "metadata": {
    "scrolled": true
   },
   "outputs": [],
   "source": [
    "PL_TradesDet"
   ]
  },
  {
   "cell_type": "code",
   "execution_count": null,
   "metadata": {
    "scrolled": true
   },
   "outputs": [],
   "source": [
    "Interest"
   ]
  },
  {
   "cell_type": "code",
   "execution_count": null,
   "metadata": {},
   "outputs": [],
   "source": []
  }
 ],
 "metadata": {
  "kernelspec": {
   "display_name": "Python 3",
   "language": "python",
   "name": "python3"
  },
  "language_info": {
   "codemirror_mode": {
    "name": "ipython",
    "version": 3
   },
   "file_extension": ".py",
   "mimetype": "text/x-python",
   "name": "python",
   "nbconvert_exporter": "python",
   "pygments_lexer": "ipython3",
   "version": "3.7.6"
  }
 },
 "nbformat": 4,
 "nbformat_minor": 4
}
